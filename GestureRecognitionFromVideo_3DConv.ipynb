{
  "nbformat": 4,
  "nbformat_minor": 0,
  "metadata": {
    "kernelspec": {
      "display_name": "Python 3",
      "language": "python",
      "name": "python3"
    },
    "language_info": {
      "codemirror_mode": {
        "name": "ipython",
        "version": 3
      },
      "file_extension": ".py",
      "mimetype": "text/x-python",
      "name": "python",
      "nbconvert_exporter": "python",
      "pygments_lexer": "ipython3",
      "version": "3.6.5"
    },
    "colab": {
      "name": "GestureRecognitionFromVideo_3DConv",
      "provenance": [],
      "collapsed_sections": [],
      "include_colab_link": true
    }
  },
  "cells": [
    {
      "cell_type": "markdown",
      "metadata": {
        "id": "view-in-github",
        "colab_type": "text"
      },
      "source": [
        "<a href=\"https://colab.research.google.com/github/HemantTiwariGitHub/GestureRecognition/blob/master/GestureRecognitionFromVideo_3DConv.ipynb\" target=\"_parent\"><img src=\"https://colab.research.google.com/assets/colab-badge.svg\" alt=\"Open In Colab\"/></a>"
      ]
    },
    {
      "cell_type": "markdown",
      "metadata": {
        "id": "Rx1alEGcqF5J",
        "colab_type": "text"
      },
      "source": [
        "# Gesture Recognition\n"
      ]
    },
    {
      "cell_type": "code",
      "metadata": {
        "id": "D5WWYVDpqF5L",
        "colab_type": "code",
        "colab": {}
      },
      "source": [
        "import numpy as np\n",
        "import os\n",
        "from imageio import imread\n",
        "import cv2\n",
        "\n",
        "import datetime\n",
        "import os\n",
        "import matplotlib.pyplot as plt\n",
        "% matplotlib inline"
      ],
      "execution_count": 157,
      "outputs": []
    },
    {
      "cell_type": "markdown",
      "metadata": {
        "id": "apLh9hHlqF5P",
        "colab_type": "text"
      },
      "source": [
        "We set the random seed so that the results don't vary drastically."
      ]
    },
    {
      "cell_type": "code",
      "metadata": {
        "id": "j5VutdetqF5Q",
        "colab_type": "code",
        "colab": {}
      },
      "source": [
        "np.random.seed(30)\n",
        "import random as rn\n",
        "rn.seed(30)\n",
        "\n",
        "from keras import backend as K\n",
        "import tensorflow as tf\n"
      ],
      "execution_count": 5,
      "outputs": []
    },
    {
      "cell_type": "code",
      "metadata": {
        "id": "VEF5DErJQMmf",
        "colab_type": "code",
        "colab": {
          "base_uri": "https://localhost:8080/",
          "height": 35
        },
        "outputId": "377d8baa-30d0-4050-f4d8-f1c60b498738"
      },
      "source": [
        "from google.colab import drive\n",
        "drive.mount('/content/drive')"
      ],
      "execution_count": 6,
      "outputs": [
        {
          "output_type": "stream",
          "text": [
            "Mounted at /content/drive\n"
          ],
          "name": "stdout"
        }
      ]
    },
    {
      "cell_type": "markdown",
      "metadata": {
        "id": "wMVyEihwqF5T",
        "colab_type": "text"
      },
      "source": [
        "In this block, you read the folder names for training and validation. You also set the `batch_size` here. Note that you set the batch size in such a way that you are able to use the GPU in full capacity. You keep increasing the batch size until the machine throws an error."
      ]
    },
    {
      "cell_type": "code",
      "metadata": {
        "id": "JamVpBIMqF5U",
        "colab_type": "code",
        "colab": {}
      },
      "source": [
        "train_doc = np.random.permutation(open('/content/drive/My Drive/Project_data/train.csv').readlines())\n",
        "val_doc = np.random.permutation(open('/content/drive/My Drive/Project_data/val.csv').readlines())\n",
        "batch_size = 1000"
      ],
      "execution_count": 7,
      "outputs": []
    },
    {
      "cell_type": "code",
      "metadata": {
        "id": "uqm04-KwZYSl",
        "colab_type": "code",
        "colab": {}
      },
      "source": [
        "def plot_image(images, captions=None, cmap=None, figWidth=15 ):\n",
        "    f, axes = plt.subplots(1, len(images), sharey=True)\n",
        "    f.set_figwidth(figWidth)\n",
        "    for ax,image in zip(axes, images):\n",
        "        ax.imshow(image, cmap)"
      ],
      "execution_count": 25,
      "outputs": []
    },
    {
      "cell_type": "code",
      "metadata": {
        "id": "1e2rdNyITcZf",
        "colab_type": "code",
        "colab": {
          "base_uri": "https://localhost:8080/",
          "height": 72
        },
        "outputId": "cf0853ea-a4a3-412b-e00a-d71215c46259"
      },
      "source": [
        "#Explore Image\n",
        "train_path = '/content/drive/My Drive/Project_data/train'\n",
        "VideoIndex = 0;\n",
        "path =  train_doc[VideoIndex].split(';')[0]\n",
        "print (\"Path:\", path)\n",
        "completePath =  train_path+\"/\"+path\n",
        "sequenceFiles =  os.listdir(completePath)\n",
        "print(sequenceFiles)\n",
        "imageList=[]\n",
        "for imgFile in sequenceFiles:\n",
        "  image = cv2.imread(completePath+'/'+imgFile)\n",
        "  imageList.append(image)\n",
        "  \n",
        "\n",
        "\n"
      ],
      "execution_count": 158,
      "outputs": [
        {
          "output_type": "stream",
          "text": [
            "Path: WIN_20180926_16_54_08_Pro_Right_Swipe_new\n",
            "['WIN_20180926_16_54_08_Pro_00008.png', 'WIN_20180926_16_54_08_Pro_00012.png', 'WIN_20180926_16_54_08_Pro_00018.png', 'WIN_20180926_16_54_08_Pro_00028.png', 'WIN_20180926_16_54_08_Pro_00022.png', 'WIN_20180926_16_54_08_Pro_00026.png', 'WIN_20180926_16_54_08_Pro_00006.png', 'WIN_20180926_16_54_08_Pro_00014.png', 'WIN_20180926_16_54_08_Pro_00030.png', 'WIN_20180926_16_54_08_Pro_00032.png', 'WIN_20180926_16_54_08_Pro_00016.png', 'WIN_20180926_16_54_08_Pro_00020.png', 'WIN_20180926_16_54_08_Pro_00024.png', 'WIN_20180926_16_54_08_Pro_00010.png', 'WIN_20180926_16_54_08_Pro_00062.png', 'WIN_20180926_16_54_08_Pro_00060.png', 'WIN_20180926_16_54_08_Pro_00048.png', 'WIN_20180926_16_54_08_Pro_00054.png', 'WIN_20180926_16_54_08_Pro_00052.png', 'WIN_20180926_16_54_08_Pro_00038.png', 'WIN_20180926_16_54_08_Pro_00044.png', 'WIN_20180926_16_54_08_Pro_00064.png', 'WIN_20180926_16_54_08_Pro_00056.png', 'WIN_20180926_16_54_08_Pro_00036.png', 'WIN_20180926_16_54_08_Pro_00058.png', 'WIN_20180926_16_54_08_Pro_00046.png', 'WIN_20180926_16_54_08_Pro_00034.png', 'WIN_20180926_16_54_08_Pro_00042.png', 'WIN_20180926_16_54_08_Pro_00040.png', 'WIN_20180926_16_54_08_Pro_00050.png']\n"
          ],
          "name": "stdout"
        }
      ]
    },
    {
      "cell_type": "code",
      "metadata": {
        "id": "R139w-3y2imO",
        "colab_type": "code",
        "colab": {}
      },
      "source": [
        "def normalizeImage(imageInput, type):\n",
        "  if (type==\"norm\"):\n",
        "    print(\"5%\",np.percentile(imageInput,5))\n",
        "    print(\"95%\",np.percentile(imageInput,95))\n",
        "    return ((imageInput - np.percentile(imageInput,5))/(np.percentile(imageInput,95)-np.percentile(imageInput,5)))\n",
        "  elif (type ==\"std\"):\n",
        "    return  ((imageInput - imageInput.mean())/(imageInput.std()+1e-8))"
      ],
      "execution_count": 159,
      "outputs": []
    },
    {
      "cell_type": "code",
      "metadata": {
        "id": "5PBKIDHDJcdD",
        "colab_type": "code",
        "colab": {
          "base_uri": "https://localhost:8080/",
          "height": 52
        },
        "outputId": "2976c4a9-4817-4633-e129-1f3126e9b242"
      },
      "source": [
        "a=np.array([[[0,1,2],[3,4,5],[6,7,8]]])\n",
        "print(np.resize(a,(2,2)))"
      ],
      "execution_count": 150,
      "outputs": [
        {
          "output_type": "stream",
          "text": [
            "[[0 1]\n",
            " [2 3]]\n"
          ],
          "name": "stdout"
        }
      ]
    },
    {
      "cell_type": "code",
      "metadata": {
        "id": "qpedtqUDzFSh",
        "colab_type": "code",
        "colab": {
          "base_uri": "https://localhost:8080/",
          "height": 1000
        },
        "outputId": "7d7dc1ce-1d69-4ff0-dd13-ce52413c2eab"
      },
      "source": [
        "origImage = imageList[0].copy()\n",
        "print(origImage)\n",
        "print(origImage.shape)\n",
        "#for channel in [0,1,2]:\n",
        "#  origImage[:,:,channel] = (origImage[:,:,channel] - origImage[:,:,channel].mean() )/(np.percentile(origImage[:,:,channel],95)-np.percentile(origImage[:,:,channel],5))\n",
        "#origImage = normalizeImage(origImage,\"norm\")\n",
        "resizeImage = origImage.copy()\n",
        "#resizeImage = np.resize(resizeImage, (119,159,3))\n",
        "\n",
        "#print(resizeImage.shape)\n",
        "#print(resizeImage)\n",
        "resizeImage = cv2.resize(origImage, (100, 100), interpolation = cv2.INTER_CUBIC)\n",
        "\n",
        "\n",
        "plt.imshow(resizeImage)\n",
        "\n",
        "  "
      ],
      "execution_count": 163,
      "outputs": [
        {
          "output_type": "stream",
          "text": [
            "[[[ 48  63  92]\n",
            "  [ 48  62  94]\n",
            "  [ 52  66 100]\n",
            "  ...\n",
            "  [ 35  35  28]\n",
            "  [ 32  32  25]\n",
            "  [ 31  31  24]]\n",
            "\n",
            " [[ 50  64  96]\n",
            "  [ 51  65  99]\n",
            "  [ 53  66 103]\n",
            "  ...\n",
            "  [ 86  86  79]\n",
            "  [ 65  65  58]\n",
            "  [ 53  53  46]]\n",
            "\n",
            " [[ 46  56  94]\n",
            "  [ 49  59  96]\n",
            "  [ 50  59  99]\n",
            "  ...\n",
            "  [108 108 101]\n",
            "  [101 101  94]\n",
            "  [ 96  96  90]]\n",
            "\n",
            " ...\n",
            "\n",
            " [[ 39  41  57]\n",
            "  [ 37  39  54]\n",
            "  [108 108 121]\n",
            "  ...\n",
            "  [  0   4   3]\n",
            "  [  0   6   7]\n",
            "  [  3  10  11]]\n",
            "\n",
            " [[ 30  32  46]\n",
            "  [ 27  29  42]\n",
            "  [150 153 164]\n",
            "  ...\n",
            "  [  1   4   3]\n",
            "  [  3   7   9]\n",
            "  [  4   8  10]]\n",
            "\n",
            " [[ 51  53  67]\n",
            "  [ 34  36  49]\n",
            "  [174 178 188]\n",
            "  ...\n",
            "  [  0   3   2]\n",
            "  [  3   7   9]\n",
            "  [  4   8  10]]]\n",
            "(120, 160, 3)\n"
          ],
          "name": "stdout"
        },
        {
          "output_type": "execute_result",
          "data": {
            "text/plain": [
              "<matplotlib.image.AxesImage at 0x7f384724e470>"
            ]
          },
          "metadata": {
            "tags": []
          },
          "execution_count": 163
        },
        {
          "output_type": "display_data",
          "data": {
            "image/png": "[encoded data removed]",
            "text/plain": [
              "<Figure size 432x288 with 1 Axes>"
            ]
          },
          "metadata": {
            "tags": [],
            "needs_background": "light"
          }
        }
      ]
    },
    {
      "cell_type": "markdown",
      "metadata": {
        "id": "iFOtywqHqF5W",
        "colab_type": "text"
      },
      "source": [
        "## Generator\n",
        "This is one of the most important part of the code. The overall structure of the generator has been given. In the generator, you are going to preprocess the images as you have images of 2 different dimensions as well as create a batch of video frames. You have to experiment with `img_idx`, `y`,`z` and normalization such that you get high accuracy."
      ]
    },
    {
      "cell_type": "code",
      "metadata": {
        "id": "2pSwIQJpqF5X",
        "colab_type": "code",
        "colab": {}
      },
      "source": [
        "def generator(source_path, folder_list, batch_size):\n",
        "    print( 'Source path = ', source_path, '; batch size =', batch_size)\n",
        "    img_idx = range(0,30)\n",
        "    while True:\n",
        "        t = np.random.permutation(folder_list)\n",
        "        num_batches = len(folder_list)/batch_size;\n",
        "        for batch in range(num_batches): # we iterate over the number of batches\n",
        "            batch_data = np.zeros((batch_size,x,y,z,3)) # x is the number of images you use for each video, (y,z) is the final size of the input images and 3 is the number of channels RGB\n",
        "            batch_labels = np.zeros((batch_size,5)) # batch_labels is the one hot representation of the output\n",
        "            for folder in range(batch_size): # iterate over the batch_size\n",
        "                imgs = os.listdir(source_path+'/'+ t[batch*batch_size + folder].split(';')[0]) # read all the images in the folder\n",
        "                for idx,item in enumerate(img_idx): #  Iterate iver the frames/images of a folder to read them in\n",
        "                    image = imread(source_path+'/'+ t[batch*batch_size + folder].strip().split(';')[0]+'/'+imgs[item]).astype(np.float32)\n",
        "                    \n",
        "                    #crop the images and resize them. Note that the images are of 2 different shape \n",
        "                    #and the conv3D will throw error if the inputs in a batch have different shapes\n",
        "                   # channelImage = image[:, : , 0]\n",
        "                   # batch_data[folder,idx,:,:,0] = channelImage - np.percentile(channelImage,5)/ np.percentile(channelImage,95) - np.percentile(channelImage,5)\n",
        "                   # channelImage = image[:, : , 1]\n",
        "                   # batch_data[folder,idx,:,:,1] = channelImage - np.percentile(channelImage,5)/ np.percentile(channelImage,95) - np.percentile(channelImage,5)\n",
        "                  #channelImage = image[:, : , 2]\n",
        "                   # batch_data[folder,idx,:,:,2] = channelImage - np.percentile(channelImage,5)/ np.percentile(channelImage,95) - np.percentile(channelImage,5)\n",
        "                    \n",
        "                batch_labels[folder, int(t[folder + (batch*batch_size)].strip().split(';')[2])] = 1\n",
        "            yield batch_data, batch_labels #you yield the batch_data and the batch_labels, remember what does yield do\n",
        "\n",
        "        \n",
        "        # write the code for the remaining data points which are left after full batches\n",
        "            batch_data = np.zeros((batch_size,x,y,z,3)) # x is the number of images you use for each video, (y,z) is the final size of the input images and 3 is the number of channels RGB\n",
        "            batch_labels = np.zeros((batch_size,5)) # batch_labels is the one hot representation of the output\n",
        "            remainingImageCount = len(folder_list)% batch_size\n",
        "            for folder in range(batch_size): # iterate over the batch_size\n",
        "                imgs = os.listdir(source_path+'/'+ t[batch*batch_size + folder].split(';')[0]) # read all the images in the folder\n",
        "                for idx,item in enumerate(img_idx): #  Iterate iver the frames/images of a folder to read them in\n",
        "                    image = imread(source_path+'/'+ t[batch*batch_size + folder].strip().split(';')[0]+'/'+imgs[item]).astype(np.float32)\n",
        "                    \n",
        "                    #crop the images and resize them. Note that the images are of 2 different shape \n",
        "                    #and the conv3D will throw error if the inputs in a batch have different shapes\n",
        "                    PIXEL =100\n",
        "                    INPUT_IMAGE_SIZE = (PIXEL, PIXEL)\n",
        "                    image.resize(INPUT_IMAGE_SIZE)\n",
        "\n",
        "                    channelImage = image[:, : , 0]\n",
        "                    #ToDo : check using standard deviation normalization too \n",
        "                    batch_data[folder,idx,:,:,0] = channelImage - np.percentile(channelImage,5)/ np.percentile(channelImage,95) - np.percentile(channelImage,5)\n",
        "                    channelImage = image[:, : , 1]\n",
        "                    batch_data[folder,idx,:,:,1] = channelImage - np.percentile(channelImage,5)/ np.percentile(channelImage,95) - np.percentile(channelImage,5)\n",
        "                    channelImage = image[:, : , 2]\n",
        "                    batch_data[folder,idx,:,:,2] = channelImage - np.percentile(channelImage,5)/ np.percentile(channelImage,95) - np.percentile(channelImage,5)\n",
        "                    \n",
        "                batch_labels[folder, int(t[folder + (batch*batch_size)].strip().split(';')[2])] = 1\n",
        "            yield batch_data, batch_labels #you yield the batch_data and the batch_labels, remember what does yield do"
      ],
      "execution_count": 8,
      "outputs": []
    },
    {
      "cell_type": "markdown",
      "metadata": {
        "id": "KAMLtQNqqF5a",
        "colab_type": "text"
      },
      "source": [
        "Note here that a video is represented above in the generator as (number of images, height, width, number of channels). Take this into consideration while creating the model architecture."
      ]
    },
    {
      "cell_type": "code",
      "metadata": {
        "id": "3afn2ymCqF5b",
        "colab_type": "code",
        "colab": {
          "base_uri": "https://localhost:8080/",
          "height": 69
        },
        "outputId": "3b10df65-a51f-438e-cbc4-ceb8a6f96cdc"
      },
      "source": [
        "curr_dt_time = datetime.datetime.now()\n",
        "train_path = '/content/drive/My Drive/Project_data/train'\n",
        "val_path = '/content/drive/My Drive/Project_data/val'\n",
        "num_train_sequences = len(train_doc)\n",
        "print('# training sequences =', num_train_sequences)\n",
        "num_val_sequences = len(val_doc)\n",
        "print('# validation sequences =', num_val_sequences)\n",
        "num_epochs = 10\n",
        "print ('# epochs =', num_epochs)"
      ],
      "execution_count": 9,
      "outputs": [
        {
          "output_type": "stream",
          "text": [
            "# training sequences = 663\n",
            "# validation sequences = 100\n",
            "# epochs = 10\n"
          ],
          "name": "stdout"
        }
      ]
    },
    {
      "cell_type": "code",
      "metadata": {
        "id": "sRKGILPORLgB",
        "colab_type": "code",
        "colab": {}
      },
      "source": [
        ""
      ],
      "execution_count": null,
      "outputs": []
    },
    {
      "cell_type": "markdown",
      "metadata": {
        "id": "2SZJsRcgqF5e",
        "colab_type": "text"
      },
      "source": [
        "## Model\n",
        "Here you make the model using different functionalities that Keras provides. Remember to use `Conv3D` and `MaxPooling3D` and not `Conv2D` and `Maxpooling2D` for a 3D convolution model. You would want to use `TimeDistributed` while building a Conv2D + RNN model. Also remember that the last layer is the softmax. Design the network in such a way that the model is able to give good accuracy on the least number of parameters so that it can fit in the memory of the webcam."
      ]
    },
    {
      "cell_type": "code",
      "metadata": {
        "id": "4JzbiJk7qF5f",
        "colab_type": "code",
        "colab": {}
      },
      "source": [
        "from keras.models import Sequential, Model\n",
        "from keras.layers import Dense, GRU, Flatten, TimeDistributed, Flatten, BatchNormalization, Activation\n",
        "from keras.layers.convolutional import Conv3D, MaxPooling3D\n",
        "from keras.callbacks import ModelCheckpoint, ReduceLROnPlateau\n",
        "from keras import optimizers\n",
        "\n",
        "#write your model here\n",
        "model = Sequential()\n",
        "model.add(Conv2D(32, kernel_size=(3, 3),\n",
        "                 activation='relu',\n",
        "                 input_shape=input_shape)) "
      ],
      "execution_count": 2,
      "outputs": []
    },
    {
      "cell_type": "markdown",
      "metadata": {
        "id": "8AzipRgsqF5j",
        "colab_type": "text"
      },
      "source": [
        "Now that you have written the model, the next step is to `compile` the model. When you print the `summary` of the model, you'll see the total number of parameters you have to train."
      ]
    },
    {
      "cell_type": "code",
      "metadata": {
        "scrolled": true,
        "id": "P0pp6MMpqF5j",
        "colab_type": "code",
        "colab": {
          "base_uri": "https://localhost:8080/",
          "height": 131
        },
        "outputId": "48849379-f78a-4b4d-e4c8-9cff0a07253a"
      },
      "source": [
        "optimiser = #write your optimizer\n",
        "model.compile(optimizer=optimiser, loss='categorical_crossentropy', metrics=['categorical_accuracy'])\n",
        "print (model.summary())"
      ],
      "execution_count": 3,
      "outputs": [
        {
          "output_type": "error",
          "ename": "SyntaxError",
          "evalue": "ignored",
          "traceback": [
            "\u001b[0;36m  File \u001b[0;32m\"<ipython-input-3-a1c9d2db73c4>\"\u001b[0;36m, line \u001b[0;32m1\u001b[0m\n\u001b[0;31m    optimiser = #write your optimizer\u001b[0m\n\u001b[0m                                     ^\u001b[0m\n\u001b[0;31mSyntaxError\u001b[0m\u001b[0;31m:\u001b[0m invalid syntax\n"
          ]
        }
      ]
    },
    {
      "cell_type": "markdown",
      "metadata": {
        "id": "sqg1o3rtqF5l",
        "colab_type": "text"
      },
      "source": [
        "Let us create the `train_generator` and the `val_generator` which will be used in `.fit_generator`."
      ]
    },
    {
      "cell_type": "code",
      "metadata": {
        "id": "Y29BMpQEqF5m",
        "colab_type": "code",
        "colab": {}
      },
      "source": [
        "train_generator = generator(train_path, train_doc, batch_size)\n",
        "val_generator = generator(val_path, val_doc, batch_size)"
      ],
      "execution_count": null,
      "outputs": []
    },
    {
      "cell_type": "code",
      "metadata": {
        "id": "cVjG8ZZaqF5p",
        "colab_type": "code",
        "colab": {}
      },
      "source": [
        "model_name = 'model_init' + '_' + str(curr_dt_time).replace(' ','').replace(':','_') + '/'\n",
        "    \n",
        "if not os.path.exists(model_name):\n",
        "    os.mkdir(model_name)\n",
        "        \n",
        "filepath = model_name + 'model-{epoch:05d}-{loss:.5f}-{categorical_accuracy:.5f}-{val_loss:.5f}-{val_categorical_accuracy:.5f}.h5'\n",
        "\n",
        "checkpoint = ModelCheckpoint(filepath, monitor='val_loss', verbose=1, save_best_only=False, save_weights_only=False, mode='auto', period=1)\n",
        "\n",
        "LR = # write the REducelronplateau code here\n",
        "callbacks_list = [checkpoint, LR]"
      ],
      "execution_count": null,
      "outputs": []
    },
    {
      "cell_type": "markdown",
      "metadata": {
        "id": "VXTCqYD6qF5r",
        "colab_type": "text"
      },
      "source": [
        "The `steps_per_epoch` and `validation_steps` are used by `fit_generator` to decide the number of next() calls it need to make."
      ]
    },
    {
      "cell_type": "code",
      "metadata": {
        "id": "32R243I2qF5s",
        "colab_type": "code",
        "colab": {}
      },
      "source": [
        "if (num_train_sequences%batch_size) == 0:\n",
        "    steps_per_epoch = int(num_train_sequences/batch_size)\n",
        "else:\n",
        "    steps_per_epoch = (num_train_sequences//batch_size) + 1\n",
        "\n",
        "if (num_val_sequences%batch_size) == 0:\n",
        "    validation_steps = int(num_val_sequences/batch_size)\n",
        "else:\n",
        "    validation_steps = (num_val_sequences//batch_size) + 1"
      ],
      "execution_count": null,
      "outputs": []
    },
    {
      "cell_type": "markdown",
      "metadata": {
        "id": "olIssMk0qF5u",
        "colab_type": "text"
      },
      "source": [
        "Let us now fit the model. This will start training the model and with the help of the checkpoints, you'll be able to save the model at the end of each epoch."
      ]
    },
    {
      "cell_type": "code",
      "metadata": {
        "id": "19nWHWRHqF5v",
        "colab_type": "code",
        "colab": {}
      },
      "source": [
        "model.fit_generator(train_generator, steps_per_epoch=steps_per_epoch, epochs=num_epochs, verbose=1, \n",
        "                    callbacks=callbacks_list, validation_data=val_generator, \n",
        "                    validation_steps=validation_steps, class_weight=None, workers=1, initial_epoch=0)"
      ],
      "execution_count": null,
      "outputs": []
    },
    {
      "cell_type": "code",
      "metadata": {
        "id": "W_ktzEPwqF5x",
        "colab_type": "code",
        "colab": {}
      },
      "source": [
        ""
      ],
      "execution_count": null,
      "outputs": []
    }
  ]
}